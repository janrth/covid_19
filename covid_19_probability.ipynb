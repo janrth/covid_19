{
 "cells": [
  {
   "cell_type": "code",
   "execution_count": 2,
   "metadata": {},
   "outputs": [],
   "source": [
    "import pandas as pd\n",
    "import numpy as np"
   ]
  },
  {
   "cell_type": "markdown",
   "metadata": {},
   "source": [
    "I want to show how conditional probability can be used for real world problems using the current covid-19 case. \n",
    "This is done combining known numbers in combination with some assumptions about some probabilities.\n",
    "\n",
    "Assume the probability to die under the condition to have covid-19, denoted by $P(D|C)$, is 0.03. This means the probability to survive covid-19, given by $P(\\bar{D}|C)$, is 0.97. \n",
    "\n",
    "Depending on what we assume for the probability to get covid-19 in general, denoted by $P(C)$, we can calculate the probability to get corona and to die for example, given by $P(D \\cap C)$."
   ]
  },
  {
   "cell_type": "markdown",
   "metadata": {},
   "source": [
    "### Assume $P(D|\\bar{C})$ is zero, what is the probability to get corona and to die: $P(D \\cap C)$?\n",
    "\n",
    "#### Based on the given information of $P(C)$, and the conditional probability $P(D|\\bar{C})$, we can find the answer:"
   ]
  },
  {
   "attachments": {},
   "cell_type": "markdown",
   "metadata": {},
   "source": [
    "![image.png](example1.jpg)"
   ]
  },
  {
   "cell_type": "markdown",
   "metadata": {},
   "source": [
    "### Let us assume $P(D|\\bar{C})$ is 0.05\n",
    "\n",
    "#### Based on the given information we can calculate the intersection between $P(D)$ and $P(C)$ as follows:"
   ]
  },
  {
   "attachments": {},
   "cell_type": "markdown",
   "metadata": {},
   "source": [
    "![image.png](example2.jpg)"
   ]
  }
 ],
 "metadata": {
  "kernelspec": {
   "display_name": "Python 3",
   "language": "python",
   "name": "python3"
  },
  "language_info": {
   "codemirror_mode": {
    "name": "ipython",
    "version": 3
   },
   "file_extension": ".py",
   "mimetype": "text/x-python",
   "name": "python",
   "nbconvert_exporter": "python",
   "pygments_lexer": "ipython3",
   "version": "3.7.1"
  }
 },
 "nbformat": 4,
 "nbformat_minor": 2
}
